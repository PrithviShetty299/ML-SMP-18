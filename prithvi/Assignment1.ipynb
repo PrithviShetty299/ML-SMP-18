{
 "cells": [
  {
   "cell_type": "code",
   "execution_count": 3,
   "metadata": {},
   "outputs": [],
   "source": [
    "import numpy as np"
   ]
  },
  {
   "cell_type": "code",
   "execution_count": 4,
   "metadata": {},
   "outputs": [
    {
     "name": "stdout",
     "output_type": "stream",
     "text": [
      "Original array:\n",
      "[1 3 5 7 9]\n",
      "Reversed array:\n",
      "[9 7 5 3 1]\n"
     ]
    }
   ],
   "source": [
    "#1 To reverse a vector\n",
    "a=np.array([1,3,5,7,9])\n",
    "print('Original array:')\n",
    "print(a)\n",
    "print('Reversed array:')\n",
    "a=a[::-1]\n",
    "print(a)"
   ]
  },
  {
   "cell_type": "code",
   "execution_count": 5,
   "metadata": {},
   "outputs": [
    {
     "name": "stdout",
     "output_type": "stream",
     "text": [
      "[[0 1 2]\n",
      " [3 4 5]\n",
      " [6 7 8]]\n"
     ]
    }
   ],
   "source": [
    "#2 To create a 3x3 matrix with values from 0-8\n",
    "a=np.arange(9).reshape(3,3)\n",
    "print(a)"
   ]
  },
  {
   "cell_type": "code",
   "execution_count": 6,
   "metadata": {},
   "outputs": [
    {
     "name": "stdout",
     "output_type": "stream",
     "text": [
      "Enter array size:\n",
      "4\n",
      "[[1 1 1 1]\n",
      " [1 0 0 1]\n",
      " [1 0 0 1]\n",
      " [1 1 1 1]]\n"
     ]
    }
   ],
   "source": [
    "#3 To create a 2D array with ones on border and zeros inside\n",
    "print('Enter array size:')\n",
    "a=int(input())\n",
    "b=np.ones((a,a),dtype=np.int16)\n",
    "b[1:-1,1:-1]=0\n",
    "print(b)"
   ]
  },
  {
   "cell_type": "code",
   "execution_count": 7,
   "metadata": {},
   "outputs": [
    {
     "name": "stdout",
     "output_type": "stream",
     "text": [
      "[[9 4 1]\n",
      " [5 0 7]\n",
      " [7 6 7]\n",
      " [0 9 8]\n",
      " [8 3 8]]\n",
      "[[0 8]\n",
      " [7 8]\n",
      " [9 0]]\n",
      "[[ 37 104]\n",
      " [ 63  40]\n",
      " [105 104]\n",
      " [135  72]\n",
      " [ 93  88]]\n"
     ]
    }
   ],
   "source": [
    "#4 Matrix multiplication\n",
    "a=np.random.randint(0,10,(5,3))\n",
    "print(a)\n",
    "b=np.random.randint(0,10,(3,2))\n",
    "print(b)\n",
    "print(np.dot(a,b))"
   ]
  },
  {
   "cell_type": "code",
   "execution_count": 8,
   "metadata": {},
   "outputs": [
    {
     "name": "stdout",
     "output_type": "stream",
     "text": [
      "[5.96721662 9.79347763 0.9699372  8.20462976 6.07880708 9.93518945\n",
      " 7.66893872 9.49659405]\n",
      "[5. 9. 0. 8. 6. 9. 7. 9.]\n",
      "[5. 9. 0. 8. 6. 9. 7. 9.]\n",
      "[5. 9. 0. 8. 6. 9. 7. 9.]\n",
      "[5. 9. 0. 8. 6. 9. 7. 9.]\n",
      "[ 6. 10.  1.  8.  6. 10.  8.  9.]\n"
     ]
    }
   ],
   "source": [
    "#5 Extracting integer part of random array\n",
    "a=np.random.uniform(0,10,8)\n",
    "print(a)\n",
    "print(a-a%1)\n",
    "print(np.floor(a))\n",
    "print(np.ceil(a)-1)\n",
    "print(np.trunc(a))\n",
    "print(np.rint(a))"
   ]
  },
  {
   "cell_type": "code",
   "execution_count": 9,
   "metadata": {},
   "outputs": [
    {
     "name": "stdout",
     "output_type": "stream",
     "text": [
      "Arrays are not equal\n"
     ]
    }
   ],
   "source": [
    "#6 To check equality of two arrays\n",
    "a=np.random.uniform(0,12,5)\n",
    "b=np.random.uniform(0,12,5)\n",
    "if np.array_equal(a,b):\n",
    "    print('Arrays are equal')\n",
    "else:\n",
    "    print('Arrays are not equal')"
   ]
  },
  {
   "cell_type": "code",
   "execution_count": 12,
   "metadata": {},
   "outputs": [
    {
     "name": "stdout",
     "output_type": "stream",
     "text": [
      "[9.58778991 6.15457721 8.86625612 7.37651472 8.7867121  6.27473531\n",
      " 5.69345818 8.63283848 6.42489909 7.72822243]\n",
      "Enter a value\n",
      "8\n",
      "7.72822243207162\n"
     ]
    }
   ],
   "source": [
    "#7 To find the nearest value in an array to  a given value\n",
    "a=np.random.uniform(0,10,10)\n",
    "print(a)\n",
    "print('Enter a value')\n",
    "b=float(input())\n",
    "c=a[np.abs(a-b).argmin()]\n",
    "print(c)"
   ]
  },
  {
   "cell_type": "code",
   "execution_count": 33,
   "metadata": {},
   "outputs": [
    {
     "name": "stdout",
     "output_type": "stream",
     "text": [
      "[5 9 2 6 8 1 3 4 9 7 7 1 5 2 4 4 1 2 6 3 5 7 8 8 7 4 5 6 9 4 1 8 1 9 7 6 1\n",
      " 1 2 2 9 7 3 0 9 2 2 9 5 5]\n",
      "[9 9 9 9 9 9 9 8 8 8 8 7 7 7 7 7 7 6 6 6 6 5 5 5 5 5 5 4 4 4 4 4 3 3 3 2 2\n",
      " 2 2 2 2 2 1 1 1 1 1 1 1 0]\n",
      "Enter a value\n",
      "8\n",
      "[9 9 9 9 9 9 9 8]\n"
     ]
    }
   ],
   "source": [
    "#8 To get the n largest values in an array\n",
    "a=np.random.randint(0,10,50)\n",
    "print(a)\n",
    "a=np.sort(-a)\n",
    "print(-a)\n",
    "print('Enter a value')\n",
    "b=int(input())\n",
    "a=-a[:b]\n",
    "print(a)"
   ]
  },
  {
   "cell_type": "code",
   "execution_count": 34,
   "metadata": {},
   "outputs": [
    {
     "name": "stdout",
     "output_type": "stream",
     "text": [
      "[6.16718387 3.02518279 8.08722459 3.10546893 0.31077521 1.23464356\n",
      " 7.0548462  3.53663531 8.15115259 9.89001279]\n",
      "Enter a value\n",
      "8\n",
      "8.08722458532144\n"
     ]
    }
   ],
   "source": [
    "#9 To find nearest value to a scalar in  an array\n",
    "a=np.random.uniform(0,10,10)\n",
    "print(a)\n",
    "print('Enter a value')\n",
    "b=float(input())\n",
    "c=a[np.abs(a-b).argmin()]\n",
    "print(c)"
   ]
  },
  {
   "cell_type": "code",
   "execution_count": 35,
   "metadata": {},
   "outputs": [
    {
     "name": "stdout",
     "output_type": "stream",
     "text": [
      "[45 29 31  7 31 18 10 22  0 13  4 33 46  6 42]\n",
      "[45 29 31  7 31 18 10 22  0 13  4 33 -1  6 42]\n"
     ]
    }
   ],
   "source": [
    "#10 To replace maximum value in an array by -1\n",
    "a=np.random.randint(0,50,15)\n",
    "print(a)\n",
    "a[a.argmax()]=-1\n",
    "print(a)"
   ]
  },
  {
   "cell_type": "code",
   "execution_count": 46,
   "metadata": {},
   "outputs": [
    {
     "name": "stdout",
     "output_type": "stream",
     "text": [
      "[[ 0.         72.76596127  1.93071542 30.69897112 67.3113072  40.06568278\n",
      "  17.12250578 32.67418582  9.73620925 64.60174632]\n",
      " [72.76596127  0.         74.69667669 42.06699015  5.45465407 32.7002785\n",
      "  55.6434555  40.09177545 63.02975202  8.16421495]\n",
      " [ 1.93071542 74.69667669  0.         32.62968654 69.24202262 41.99639819\n",
      "  19.05322119 34.60490124 11.66692467 66.53246174]\n",
      " [30.69897112 42.06699015 32.62968654  0.         36.61233608  9.36671166\n",
      "  13.57646534  1.9752147  20.96276187 33.9027752 ]\n",
      " [67.3113072   5.45465407 69.24202262 36.61233608  0.         27.24562443\n",
      "  50.18880142 34.63712138 57.57509795  2.70956088]\n",
      " [40.06568278 32.7002785  41.99639819  9.36671166 27.24562443  0.\n",
      "  22.943177    7.39149695 30.32947352 24.53606354]\n",
      " [17.12250578 55.6434555  19.05322119 13.57646534 50.18880142 22.943177\n",
      "   0.         15.55168005  7.38629652 47.47924054]\n",
      " [32.67418582 40.09177545 34.60490124  1.9752147  34.63712138  7.39149695\n",
      "  15.55168005  0.         22.93797657 31.92756049]\n",
      " [ 9.73620925 63.02975202 11.66692467 20.96276187 57.57509795 30.32947352\n",
      "   7.38629652 22.93797657  0.         54.86553707]\n",
      " [64.60174632  8.16421495 66.53246174 33.9027752   2.70956088 24.53606354\n",
      "  47.47924054 31.92756049 54.86553707  0.        ]]\n"
     ]
    }
   ],
   "source": [
    "#11 To find point by point distance in array of shape (100,2)\n",
    "a=np.random.uniform(1,100,20).reshape(10,2)\n",
    "b=a[:,:1]\n",
    "d=a[:,1:2]\n",
    "d=np.sqrt((b-b.T)**2 + (c-c.T)**2)\n",
    "print(d)"
   ]
  },
  {
   "cell_type": "code",
   "execution_count": 45,
   "metadata": {},
   "outputs": [
    {
     "name": "stdout",
     "output_type": "stream",
     "text": [
      "[[40 35  9 44  0]\n",
      " [41 16 17  3 27]\n",
      " [31 21 37 48 24]\n",
      " [20  3 33  8  0]\n",
      " [38 40 35 36  4]]\n",
      "Enter a value\n",
      "1\n",
      "[[20]\n",
      " [31]\n",
      " [38]\n",
      " [40]\n",
      " [41]]\n"
     ]
    }
   ],
   "source": [
    "#12 To sort nth column\n",
    "a=np.random.randint(0,50,(5,5))\n",
    "print(a)\n",
    "print('Enter a value')\n",
    "n=int(input())\n",
    "b=a[:,n-1:n]\n",
    "print(np.sort(b,axis=0))"
   ]
  },
  {
   "cell_type": "code",
   "execution_count": 47,
   "metadata": {},
   "outputs": [
    {
     "name": "stdout",
     "output_type": "stream",
     "text": [
      "[[[[8.18046094 7.20933662]\n",
      "   [6.26808464 5.66818957]]\n",
      "\n",
      "  [[1.29201613 2.00136721]\n",
      "   [7.94501684 1.47154593]]]\n",
      "\n",
      "\n",
      " [[[8.62337048 8.46348443]\n",
      "   [2.50721621 7.78485888]]\n",
      "\n",
      "  [[8.93876936 8.22354842]\n",
      "   [7.92771694 4.47639981]]]]\n",
      "[[27.32607176 12.70994611]\n",
      " [27.37893    29.56643454]]\n"
     ]
    }
   ],
   "source": [
    "#13 To get sum over last two axes of a 4 dimensional array\n",
    "a=np.random.uniform(1,10,16).reshape(2,2,2,2)\n",
    "print(a)\n",
    "print(np.sum(a,axis=(2,3)))"
   ]
  },
  {
   "cell_type": "code",
   "execution_count": 48,
   "metadata": {},
   "outputs": [
    {
     "name": "stdout",
     "output_type": "stream",
     "text": [
      "[4 3 6 1 3 2 4 7 6 8 0 1 3 9 7 0 5 0 9 3 2 3 5 6 0 2 2 1 6 1 2 2 8 9 1 8 8\n",
      " 3 9 7 6 8 9 5 4 7 1 8 4 5]\n",
      "1\n"
     ]
    }
   ],
   "source": [
    "#14 To find most frequent value in an array\n",
    "a=np.random.randint(0,10,50)\n",
    "print(a)\n",
    "print(np.bincount(a).argmax())"
   ]
  },
  {
   "cell_type": "code",
   "execution_count": null,
   "metadata": {},
   "outputs": [],
   "source": []
  }
 ],
 "metadata": {
  "kernelspec": {
   "display_name": "Python 3",
   "language": "python",
   "name": "python3"
  },
  "language_info": {
   "codemirror_mode": {
    "name": "ipython",
    "version": 3
   },
   "file_extension": ".py",
   "mimetype": "text/x-python",
   "name": "python",
   "nbconvert_exporter": "python",
   "pygments_lexer": "ipython3",
   "version": "3.6.4"
  }
 },
 "nbformat": 4,
 "nbformat_minor": 2
}
