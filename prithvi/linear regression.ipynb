{
 "cells": [
  {
   "cell_type": "code",
   "execution_count": 38,
   "metadata": {},
   "outputs": [],
   "source": [
    "import numpy as np\n",
    "#Calculate the hypothesis function h(X1 , X2)\n",
    "def Hypothesis(theta,x):\n",
    "    return np.dot(x,theta)"
   ]
  },
  {
   "cell_type": "code",
   "execution_count": 39,
   "metadata": {},
   "outputs": [],
   "source": [
    "#Calculate the cost function J\n",
    "def Cost_Function(X,Y,theta,m):\n",
    "    a=(Hypothesis(theta,X)-Y)\n",
    "    return (1/(2*m))*sum(a**2)"
   ]
  },
  {
   "cell_type": "code",
   "execution_count": 40,
   "metadata": {},
   "outputs": [],
   "source": [
    "#Calculate derivatives dJ/dW1 and dJ/dW2\n",
    "def Cost_Function_Derivative(X,Y,theta,j,m):\n",
    "    a=(Hypothesis(theta,X)-Y)\n",
    "    return (1/m)*(np.dot(X.T,a.T))"
   ]
  },
  {
   "cell_type": "code",
   "execution_count": 41,
   "metadata": {},
   "outputs": [],
   "source": [
    "#Perform the gradient descent update W1 = W1 - alpha* dJ/dW1 , W2 = W2 - alpha*dJ/dW2\n",
    "def Gradient_Descent(X,Y,theta, m, alpha):\n",
    "    return theta - alpha*(Cost_Function_Derivative(X,Y,theta,Cost_Function(X,Y,theta,m),m))"
   ]
  },
  {
   "cell_type": "code",
   "execution_count": 42,
   "metadata": {},
   "outputs": [],
   "source": [
    "#Perform Linear Regression\n",
    "def Linear_Regression(X,Y,alpha,theta,num_iters):\n",
    "    m=len(X)\n",
    "    for x in range(num_iters):\n",
    "        new_theta=Gradient_Descent(X,Y,theta, m, alpha)\n",
    "        theta=new_theta\n",
    "        if x % 100==0:\n",
    "            print('theta is ', theta)\n",
    "            print('cost is ', Cost_Function(X,Y,theta,m))\n",
    "    return new_theta"
   ]
  },
  {
   "cell_type": "code",
   "execution_count": 43,
   "metadata": {},
   "outputs": [
    {
     "name": "stdout",
     "output_type": "stream",
     "text": [
      "theta is  [0.22055556 1.15055556]\n",
      "cost is  130.10788744855967\n",
      "theta is  [3.92354946 3.0288209 ]\n",
      "cost is  22.44538837909337\n",
      "theta is  [6.62710427 2.59915726]\n",
      "cost is  14.932918667326838\n",
      "theta is  [8.82826214 2.24933727]\n",
      "cost is  9.95308585329598\n",
      "theta is  [10.62038264  1.96452373]\n",
      "cost is  6.652076224351063\n",
      "theta is  [12.07947647  1.7326366 ]\n",
      "cost is  4.463917509527264\n",
      "theta is  [13.2674294   1.54384066]\n",
      "cost is  3.013440504166429\n",
      "theta is  [14.23462709  1.39012834]\n",
      "cost is  2.051954699307909\n",
      "theta is  [15.0220921   1.26498012]\n",
      "cost is  1.4146092263857408\n",
      "theta is  [15.66322384  1.16308797]\n",
      "cost is  0.9921284681657546\n",
      "theta is  [16.18521517  1.08013027]\n",
      "cost is  0.7120762850886927\n",
      "theta is  [16.61020575  1.01258846]\n",
      "cost is  0.5264365281997294\n",
      "theta is  [16.95622107  0.95759782]\n",
      "cost is  0.40338046429354074\n",
      "theta is  [17.23793695  0.912826  ]\n",
      "cost is  0.3218096029766952\n",
      "theta is  [17.46730206  0.87637405]\n",
      "cost is  0.2677382699211796\n",
      "theta is  [17.65404464  0.8466959 ]\n",
      "cost is  0.23189570296526774\n",
      "theta is  [17.80608517  0.82253279]\n",
      "cost is  0.20813654014474015\n",
      "theta is  [17.92987227  0.80285987]\n",
      "cost is  0.19238717100422245\n",
      "theta is  [18.03065623  0.78684274]\n",
      "cost is  0.18194729859803144\n",
      "theta is  [18.11271168  0.77380204]\n",
      "cost is  0.17502696198739268\n",
      "New theta is  [18.17891653  0.7632804 ]\n",
      "Values obtained are  [18.94219694 19.70547734 20.46875774 21.23203814 21.99531855 22.75859895\n",
      " 23.52187935 24.28515975 25.04844016]\n"
     ]
    }
   ],
   "source": [
    "Y=np.array([19, 20, 20.5, 21.5, 22, 23, 23, 25.5, 24])\n",
    "X =np.array([[1,1],[1,2],[1,3],[1,4],[1,5],[1,6],[1,7],[1,8],[1,9]])\n",
    "alpha=0.01\n",
    "num_iters=2000\n",
    "theta=np.array([0,0])\n",
    "new_theta=Linear_Regression(X,Y,alpha,theta,num_iters)\n",
    "print( 'New theta is ' ,new_theta)\n",
    "print( 'Values obtained are ' ,Hypothesis(new_theta,X))"
   ]
  },
  {
   "cell_type": "code",
   "execution_count": null,
   "metadata": {},
   "outputs": [],
   "source": []
  }
 ],
 "metadata": {
  "kernelspec": {
   "display_name": "Python 3",
   "language": "python",
   "name": "python3"
  },
  "language_info": {
   "codemirror_mode": {
    "name": "ipython",
    "version": 3
   },
   "file_extension": ".py",
   "mimetype": "text/x-python",
   "name": "python",
   "nbconvert_exporter": "python",
   "pygments_lexer": "ipython3",
   "version": "3.6.4"
  }
 },
 "nbformat": 4,
 "nbformat_minor": 2
}
