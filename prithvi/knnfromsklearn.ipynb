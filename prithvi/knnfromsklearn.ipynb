{
 "cells": [
  {
   "cell_type": "code",
   "execution_count": 83,
   "metadata": {},
   "outputs": [],
   "source": [
    "import numpy as np\n",
    "from sklearn import datasets\n",
    "iris=datasets.load_iris()\n",
    "irisX=iris.data\n",
    "irisY=iris.target"
   ]
  },
  {
   "cell_type": "code",
   "execution_count": 84,
   "metadata": {},
   "outputs": [],
   "source": [
    "#k here is the number of data elements used for testing and rest for training and changed for maximum accuracy by hit and trial \n",
    "k=49\n",
    "#a is a random distribution of all elements in irisX\n",
    "a=np.random.permutation(len(irisX))\n",
    "irisXTr=irisX[a[:-k]]\n",
    "irisYTr=irisY[a[:-k]]\n",
    "irisXTest=irisX[a[-k:]]\n",
    "irisYTest=irisY[a[-k:]]"
   ]
  },
  {
   "cell_type": "code",
   "execution_count": 85,
   "metadata": {},
   "outputs": [
    {
     "data": {
      "text/plain": [
       "KNeighborsClassifier(algorithm='auto', leaf_size=30, metric='minkowski',\n",
       "           metric_params=None, n_jobs=1, n_neighbors=5, p=2,\n",
       "           weights='uniform')"
      ]
     },
     "execution_count": 85,
     "metadata": {},
     "output_type": "execute_result"
    }
   ],
   "source": [
    "#Create and fit a Nearest-Neighbor Classifier\n",
    "from sklearn.neighbors import KNeighborsClassifier as knc\n",
    "knnal=knc()\n",
    "knnal.fit(irisXTr,irisYTr) "
   ]
  },
  {
   "cell_type": "code",
   "execution_count": 86,
   "metadata": {},
   "outputs": [],
   "source": [
    "#functon for returning actual values from iris dataset\n",
    "#b is index value ranging from 0 and k-1\n",
    "def irisAc(irisYTest,b):\n",
    "    if (irisYTest[b]==0):\n",
    "        return \"Iris-setosa\"\n",
    "    elif(irisYTest[b]==1):\n",
    "        return \"Iris-versicolor\"\n",
    "    else:\n",
    "        return \"Iris-virginica\"  "
   ]
  },
  {
   "cell_type": "code",
   "execution_count": 87,
   "metadata": {},
   "outputs": [
    {
     "name": "stdout",
     "output_type": "stream",
     "text": [
      "[0 1 0 0 2 0 0 0 2 0 1 0 1 1 0 1 2 1 1 0 1 1 1 0 0 2 2 1 0 1 1 0 0 1 2 1 0\n",
      " 1 2 2 0 2 0 2 2 1 0 0 2]\n",
      "Predicted             Actual\n",
      "*************************************\n",
      "Iris-setosa           Iris-setosa\n",
      "Iris-versicolor       Iris-versicolor\n",
      "Iris-setosa           Iris-setosa\n",
      "Iris-setosa           Iris-setosa\n",
      "Iris-virginica        Iris-virginica\n",
      "Iris-setosa           Iris-setosa\n",
      "Iris-setosa           Iris-setosa\n",
      "Iris-setosa           Iris-setosa\n",
      "Iris-virginica        Iris-virginica\n",
      "Iris-setosa           Iris-setosa\n",
      "Iris-versicolor       Iris-versicolor\n",
      "Iris-setosa           Iris-setosa\n",
      "Iris-versicolor       Iris-versicolor\n",
      "Iris-versicolor       Iris-versicolor\n",
      "Iris-setosa           Iris-setosa\n",
      "Iris-versicolor       Iris-versicolor\n",
      "Iris-virginica        Iris-virginica\n",
      "Iris-versicolor       Iris-versicolor\n",
      "Iris-versicolor       Iris-versicolor\n",
      "Iris-setosa           Iris-setosa\n",
      "Iris-versicolor       Iris-versicolor\n",
      "Iris-versicolor       Iris-versicolor\n",
      "Iris-versicolor       Iris-versicolor\n",
      "Iris-setosa           Iris-setosa\n",
      "Iris-setosa           Iris-setosa\n",
      "Iris-virginica        Iris-virginica\n",
      "Iris-virginica        Iris-virginica\n",
      "Iris-versicolor       Iris-versicolor\n",
      "Iris-setosa           Iris-setosa\n",
      "Iris-versicolor       Iris-versicolor\n",
      "Iris-versicolor       Iris-versicolor\n",
      "Iris-setosa           Iris-setosa\n",
      "Iris-setosa           Iris-setosa\n",
      "Iris-versicolor       Iris-versicolor\n",
      "Iris-virginica        Iris-virginica\n",
      "Iris-versicolor       Iris-versicolor\n",
      "Iris-setosa           Iris-setosa\n",
      "Iris-versicolor       Iris-versicolor\n",
      "Iris-virginica        Iris-virginica\n",
      "Iris-virginica        Iris-virginica\n",
      "Iris-setosa           Iris-setosa\n",
      "Iris-virginica        Iris-virginica\n",
      "Iris-setosa           Iris-setosa\n",
      "Iris-virginica        Iris-virginica\n",
      "Iris-virginica        Iris-virginica\n",
      "Iris-versicolor       Iris-versicolor\n",
      "Iris-setosa           Iris-setosa\n",
      "Iris-setosa           Iris-setosa\n",
      "Iris-virginica        Iris-virginica\n"
     ]
    }
   ],
   "source": [
    "#c is array of prdicted values from training set  \n",
    "c=np.array(knnal.predict(irisXTest))\n",
    "print(c)\n",
    "print(\"Predicted             Actual\")\n",
    "print(\"*************************************\")\n",
    "#d is index value ranging from 0 and k-1 \n",
    "for d in range(0,k):\n",
    "   if (c[d]==0):\n",
    "    print('Iris-setosa          ',irisAc(irisYTest,d))\n",
    "   elif (c[d]==1):\n",
    "    print('Iris-versicolor      ',irisAc(irisYTest,d))\n",
    "   else:\n",
    "    print('Iris-virginica       ',irisAc(irisYTest,d))"
   ]
  },
  {
   "cell_type": "code",
   "execution_count": 88,
   "metadata": {},
   "outputs": [
    {
     "name": "stdout",
     "output_type": "stream",
     "text": [
      "Number of values used for testing=  49\n",
      "Accuracy=  100.0 %\n"
     ]
    }
   ],
   "source": [
    "#acc is accuracy \n",
    "acc=0\n",
    "print(\"Number of values used for testing= \",c.shape[0])\n",
    "for e in range(0,k):\n",
    "    if(c[e]==irisYTest[e]):\n",
    "        acc=acc+1\n",
    "#accpercent is accuracy percentage        \n",
    "accpercent=acc/c.shape[0]\n",
    "print(\"Accuracy= \",accpercent*100,'%')"
   ]
  },
  {
   "cell_type": "code",
   "execution_count": null,
   "metadata": {},
   "outputs": [],
   "source": []
  }
 ],
 "metadata": {
  "kernelspec": {
   "display_name": "Python 3",
   "language": "python",
   "name": "python3"
  },
  "language_info": {
   "codemirror_mode": {
    "name": "ipython",
    "version": 3
   },
   "file_extension": ".py",
   "mimetype": "text/x-python",
   "name": "python",
   "nbconvert_exporter": "python",
   "pygments_lexer": "ipython3",
   "version": "3.6.4"
  }
 },
 "nbformat": 4,
 "nbformat_minor": 2
}
